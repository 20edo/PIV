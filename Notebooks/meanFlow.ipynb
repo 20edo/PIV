{
 "cells": [
  {
   "cell_type": "code",
   "execution_count": 22,
   "metadata": {},
   "outputs": [],
   "source": [
    "from openpiv import tools, pyprocess, validation, filters, scaling \n",
    "\n",
    "import numpy as np\n",
    "import matplotlib.pyplot as plt\n",
    "%matplotlib inline\n",
    "#import cv2 # Added for image equalozation\n",
    "from math import *\n",
    "import imageio\n",
    "import os\n",
    "import pandas as pd\n",
    "import copy\n",
    "\n",
    "folder = '/home/matteo/PIV'\n",
    "save = 1 # Save images at the end of postProcessing in Images/ImagesCorrected\n",
    "minus_average = 1 # Consider images cleared of average"
   ]
  },
  {
   "cell_type": "code",
   "execution_count": 23,
   "metadata": {},
   "outputs": [],
   "source": [
    "# Camera\n",
    "resolution = (992,1004) #pixel\n",
    "physical_window = (45,45) # m\n",
    "pixel_depth = 8 # bit\n",
    "dynamic_range = 2**pixel_depth # levels\n",
    "scaling_factor = 1/(np.mean(physical_window)/np.mean(resolution)) # m/pixel"
   ]
  },
  {
   "cell_type": "code",
   "execution_count": 24,
   "metadata": {},
   "outputs": [],
   "source": [
    "# Load saveVectorField functiopon\n",
    "%run -i '/home/matteo/PIV/Scripts/saveVectorField'\n",
    "%run -i '/home/matteo/PIV/Scripts/flash_mask'"
   ]
  },
  {
   "cell_type": "code",
   "execution_count": 25,
   "metadata": {},
   "outputs": [],
   "source": [
    "# Generate strings for the images\n",
    "numbers = [\"{0:03}\".format(i) for i in range(2,101)]"
   ]
  },
  {
   "cell_type": "code",
   "execution_count": 26,
   "metadata": {},
   "outputs": [
    {
     "name": "stdout",
     "output_type": "stream",
     "text": [
      "Processing image number:030\n"
     ]
    },
    {
     "name": "stderr",
     "output_type": "stream",
     "text": [
      "/home/matteo/PIV/Scripts/saveVectorField.py:51: UserWarning: 2 flashed regions in frame a have been replaced with a random noise\n",
      "  warnings.warn(str(number_a)+ ' flashed regions in frame a have been replaced with a random noise')\n",
      "/home/matteo/PIV/Scripts/saveVectorField.py:54: UserWarning: 2 flashed regions in frame a have been replaced with a random noise\n",
      "  warnings.warn(str(number_a)+ ' flashed regions in frame a have been replaced with a random noise')\n"
     ]
    }
   ],
   "source": [
    "# Initialize u and v\n",
    "x,y,u,v,snr,mask = saveVectorField('030', save=save, minus_average=minus_average)\n",
    "u, v = u.flatten(), v.flatten()"
   ]
  },
  {
   "cell_type": "code",
   "execution_count": null,
   "metadata": {},
   "outputs": [
    {
     "name": "stdout",
     "output_type": "stream",
     "text": [
      "Processing image number:002\n"
     ]
    },
    {
     "name": "stderr",
     "output_type": "stream",
     "text": [
      "/home/edo20/PIV/Scripts/saveVectorField.py:54: UserWarning: 0 flashed regions in frame a have been replaced with a random noise\n",
      "  warnings.warn(str(number_a)+ ' flashed regions in frame a have been replaced with a random noise')\n"
     ]
    },
    {
     "name": "stdout",
     "output_type": "stream",
     "text": [
      "Processing image number:003\n",
      "Processing image number:004\n",
      "Processing image number:005\n",
      "Processing image number:006\n"
     ]
    },
    {
     "name": "stderr",
     "output_type": "stream",
     "text": [
      "/home/edo20/PIV/Scripts/saveVectorField.py:51: UserWarning: 5 flashed regions in frame a have been replaced with a random noise\n",
      "  warnings.warn(str(number_a)+ ' flashed regions in frame a have been replaced with a random noise')\n",
      "/home/edo20/PIV/Scripts/saveVectorField.py:54: UserWarning: 5 flashed regions in frame a have been replaced with a random noise\n",
      "  warnings.warn(str(number_a)+ ' flashed regions in frame a have been replaced with a random noise')\n"
     ]
    },
    {
     "name": "stdout",
     "output_type": "stream",
     "text": [
      "Processing image number:007\n",
      "Processing image number:008\n"
     ]
    },
    {
     "name": "stderr",
     "output_type": "stream",
     "text": [
      "/home/edo20/PIV/Scripts/saveVectorField.py:51: UserWarning: 7 flashed regions in frame a have been replaced with a random noise\n",
      "  warnings.warn(str(number_a)+ ' flashed regions in frame a have been replaced with a random noise')\n",
      "/home/edo20/PIV/Scripts/saveVectorField.py:54: UserWarning: 7 flashed regions in frame a have been replaced with a random noise\n",
      "  warnings.warn(str(number_a)+ ' flashed regions in frame a have been replaced with a random noise')\n"
     ]
    },
    {
     "name": "stdout",
     "output_type": "stream",
     "text": [
      "Processing image number:009\n"
     ]
    }
   ],
   "source": [
    "# Save vector field for all the images\n",
    "\n",
    "for i in numbers:\n",
    "    _, _, uv, vv, _, _ = saveVectorField(i, save=save, minus_average=minus_average)\n",
    "    uv = uv.flatten()\n",
    "    vv = vv.flatten()\n",
    "    u = np.c_[u,uv]\n",
    "    v = np.c_[v,vv]"
   ]
  },
  {
   "cell_type": "code",
   "execution_count": null,
   "metadata": {},
   "outputs": [],
   "source": [
    "# Calculate the mean velocity\n",
    "umean, vmean = np.mean(u,axis=1), np.mean(v,axis=1)\n",
    "umean, vmean = umean.reshape(mask.shape), vmean.reshape(mask.shape)\n",
    "\n",
    "# Initialize mask and snr fields\n",
    "mask = np.zeros(mask.shape, dtype=bool)\n",
    "snr = np.zeros(mask.shape)\n",
    "\n",
    "#save in the simple ASCII table format\n",
    "tools.save(x, y, umean, vmean, snr, mask, folder + '/Vector_field/exp1_' + 'meanField.txt' )\n",
    "\n",
    "fig, ax = plt.subplots(figsize=(8,8))\n",
    "tools.display_vector_field( folder + '/Vector_field/exp1_' + 'meanField.txt' , \n",
    "                           ax=ax, scaling_factor=scaling_factor, \n",
    "                           scale= 80, # scale defines here the arrow length\n",
    "                           width= 0.002, # width is the thickness of the arrow\n",
    "                           on_img=False, # overlay on the image\n",
    "                           image_name= 'None');\n"
   ]
  },
  {
   "cell_type": "code",
   "execution_count": null,
   "metadata": {},
   "outputs": [],
   "source": [
    "# Calculate rms velocity field\n",
    "#urms, vrms = np.std(u,axis=1), np.std(v,axis=1)\n",
    "urms, vrms = urms.reshape(mask.shape), vrms.reshape(mask.shape)\n",
    "\n",
    "#save in the simple ASCII table format\n",
    "tools.save(x, y, urms, vrms, snr, mask, folder + '/Vector_field/exp1_' + 'rmsField.txt' )\n",
    "\n",
    "# Plot\n",
    "X, Y = np.meshgrid(x[0], y.transpose()[0]) \n",
    "\n",
    "ax1 = plt.subplot(1,2,1)\n",
    "ax1.pcolormesh(X,Y,urms)\n",
    "ax1.axis('equal')\n",
    "ax2 = plt.subplot(1,2,2)\n",
    "ax2.axis('equal')\n",
    "ax2.pcolormesh(X,Y,vrms)\n"
   ]
  },
  {
   "cell_type": "code",
   "execution_count": null,
   "metadata": {},
   "outputs": [],
   "source": []
  }
 ],
 "metadata": {
  "kernelspec": {
   "display_name": "Python 3",
   "language": "python",
   "name": "python3"
  },
  "language_info": {
   "codemirror_mode": {
    "name": "ipython",
    "version": 3
   },
   "file_extension": ".py",
   "mimetype": "text/x-python",
   "name": "python",
   "nbconvert_exporter": "python",
   "pygments_lexer": "ipython3",
   "version": "3.8.5"
  }
 },
 "nbformat": 4,
 "nbformat_minor": 4
}
