{
 "cells": [
  {
   "cell_type": "code",
   "execution_count": 1,
   "metadata": {},
   "outputs": [],
   "source": [
    "from openpiv import tools, pyprocess, validation, filters, scaling \n",
    "\n",
    "import numpy as np\n",
    "import matplotlib.pyplot as plt\n",
    "%matplotlib inline\n",
    "#import cv2 # Added for image equalozation\n",
    "from math import *\n",
    "import imageio\n",
    "import os\n",
    "import pandas as pd\n",
    "import copy\n",
    "\n",
    "folder = '/home/matteo/PIV/PIV'\n",
    "save = 1 # Save images at the end of postProcessing in Images/ImagesCorrected\n",
    "minus_average = 0 # Consider images cleared of average"
   ]
  },
  {
   "cell_type": "code",
   "execution_count": 2,
   "metadata": {},
   "outputs": [],
   "source": [
    "# Camera\n",
    "resolution = (992,1004) #pixel\n",
    "physical_window = (45,45) # m\n",
    "pixel_depth = 8 # bit\n",
    "dynamic_range = 2**pixel_depth # levels\n",
    "scaling_factor = 1/(np.mean(physical_window)/np.mean(resolution)) # m/pixel"
   ]
  },
  {
   "cell_type": "code",
   "execution_count": 3,
   "metadata": {},
   "outputs": [],
   "source": [
    "# Load saveVectorField functiopon\n",
    "%run -i '/home/matteo/PIV/PIV/Scripts/saveVectorField'\n",
    "%run -i '/home/matteo/PIV/PIV/Scripts/flash_mask'"
   ]
  },
  {
   "cell_type": "code",
   "execution_count": 4,
   "metadata": {},
   "outputs": [],
   "source": [
    "# Generate strings for the images\n",
    "numbers = [\"{0:03}\".format(i) for i in range(2,101)]"
   ]
  },
  {
   "cell_type": "code",
   "execution_count": 5,
   "metadata": {},
   "outputs": [
    {
     "name": "stdout",
     "output_type": "stream",
     "text": [
      "Processing image number:030\n"
     ]
    },
    {
     "name": "stderr",
     "output_type": "stream",
     "text": [
      "/home/matteo/PIV/PIV/Scripts/saveVectorField.py:72: UserWarning: 2 flashed regions in frame a have been replaced with a random noise\n",
      "  warnings.warn(str(number_a)+ ' flashed regions in frame a have been replaced with a random noise')\n",
      "/home/matteo/PIV/PIV/Scripts/saveVectorField.py:75: UserWarning: 2 flashed regions in frame a have been replaced with a random noise\n",
      "  warnings.warn(str(number_a)+ ' flashed regions in frame a have been replaced with a random noise')\n"
     ]
    }
   ],
   "source": [
    "# Initialize u and v\n",
    "x,y,u,v,snr,mask = saveVectorField('030', save=save, minus_average=minus_average, fill = 'checkerboard')\n",
    "u, v = u.flatten(), v.flatten()"
   ]
  },
  {
   "cell_type": "code",
   "execution_count": 6,
   "metadata": {},
   "outputs": [
    {
     "name": "stdout",
     "output_type": "stream",
     "text": [
      "Processing image number:002\n",
      "Processing image number:003\n",
      "Processing image number:004\n",
      "Processing image number:005\n"
     ]
    },
    {
     "name": "stderr",
     "output_type": "stream",
     "text": [
      "/home/matteo/PIV/PIV/Scripts/saveVectorField.py:72: UserWarning: 1 flashed regions in frame a have been replaced with a random noise\n",
      "  warnings.warn(str(number_a)+ ' flashed regions in frame a have been replaced with a random noise')\n"
     ]
    },
    {
     "name": "stdout",
     "output_type": "stream",
     "text": [
      "Processing image number:006\n"
     ]
    },
    {
     "name": "stderr",
     "output_type": "stream",
     "text": [
      "/home/matteo/PIV/PIV/Scripts/saveVectorField.py:75: UserWarning: 0 flashed regions in frame a have been replaced with a random noise\n",
      "  warnings.warn(str(number_a)+ ' flashed regions in frame a have been replaced with a random noise')\n"
     ]
    },
    {
     "name": "stdout",
     "output_type": "stream",
     "text": [
      "Processing image number:007\n",
      "Processing image number:008\n",
      "Processing image number:009\n",
      "Processing image number:010\n",
      "Processing image number:011\n",
      "Processing image number:012\n"
     ]
    },
    {
     "name": "stderr",
     "output_type": "stream",
     "text": [
      "/home/matteo/PIV/PIV/Scripts/saveVectorField.py:75: UserWarning: 1 flashed regions in frame a have been replaced with a random noise\n",
      "  warnings.warn(str(number_a)+ ' flashed regions in frame a have been replaced with a random noise')\n"
     ]
    },
    {
     "name": "stdout",
     "output_type": "stream",
     "text": [
      "Processing image number:013\n"
     ]
    },
    {
     "name": "stderr",
     "output_type": "stream",
     "text": [
      "/home/matteo/PIV/PIV/Scripts/saveVectorField.py:72: UserWarning: 2 flashed regions in frame a have been replaced with a random noise\n",
      "  warnings.warn(str(number_a)+ ' flashed regions in frame a have been replaced with a random noise')\n",
      "/home/matteo/PIV/PIV/Scripts/saveVectorField.py:75: UserWarning: 2 flashed regions in frame a have been replaced with a random noise\n",
      "  warnings.warn(str(number_a)+ ' flashed regions in frame a have been replaced with a random noise')\n"
     ]
    },
    {
     "name": "stdout",
     "output_type": "stream",
     "text": [
      "Processing image number:014\n",
      "Processing image number:015\n",
      "Processing image number:016\n",
      "Processing image number:017\n",
      "Processing image number:018\n",
      "Processing image number:019\n",
      "Processing image number:020\n",
      "Processing image number:021\n",
      "Processing image number:022\n",
      "Processing image number:023\n",
      "Processing image number:024\n",
      "Processing image number:025\n",
      "Processing image number:026\n",
      "Processing image number:027\n",
      "Processing image number:028\n",
      "Processing image number:029\n",
      "Processing image number:030\n",
      "Processing image number:031\n",
      "Processing image number:032\n",
      "Processing image number:033\n"
     ]
    },
    {
     "ename": "KeyboardInterrupt",
     "evalue": "",
     "output_type": "error",
     "traceback": [
      "\u001b[0;31m---------------------------------------------------------------------------\u001b[0m",
      "\u001b[0;31mKeyboardInterrupt\u001b[0m                         Traceback (most recent call last)",
      "\u001b[0;32m~/PIV/PIV/Scripts/flash_mask.py\u001b[0m in \u001b[0;36m<module>\u001b[0;34m\u001b[0m\n\u001b[1;32m      2\u001b[0m \u001b[0;34m\u001b[0m\u001b[0m\n\u001b[1;32m      3\u001b[0m \u001b[0;32mfor\u001b[0m \u001b[0mi\u001b[0m \u001b[0;32min\u001b[0m \u001b[0mnumbers\u001b[0m\u001b[0;34m:\u001b[0m\u001b[0;34m\u001b[0m\u001b[0;34m\u001b[0m\u001b[0m\n\u001b[0;32m----> 4\u001b[0;31m     \u001b[0m_\u001b[0m\u001b[0;34m,\u001b[0m \u001b[0m_\u001b[0m\u001b[0;34m,\u001b[0m \u001b[0muv\u001b[0m\u001b[0;34m,\u001b[0m \u001b[0mvv\u001b[0m\u001b[0;34m,\u001b[0m \u001b[0m_\u001b[0m\u001b[0;34m,\u001b[0m \u001b[0m_\u001b[0m \u001b[0;34m=\u001b[0m \u001b[0msaveVectorField\u001b[0m\u001b[0;34m(\u001b[0m\u001b[0mi\u001b[0m\u001b[0;34m,\u001b[0m \u001b[0msave\u001b[0m\u001b[0;34m=\u001b[0m\u001b[0msave\u001b[0m\u001b[0;34m,\u001b[0m \u001b[0mminus_average\u001b[0m\u001b[0;34m=\u001b[0m\u001b[0mminus_average\u001b[0m\u001b[0;34m)\u001b[0m\u001b[0;34m\u001b[0m\u001b[0;34m\u001b[0m\u001b[0m\n\u001b[0m\u001b[1;32m      5\u001b[0m     \u001b[0muv\u001b[0m \u001b[0;34m=\u001b[0m \u001b[0muv\u001b[0m\u001b[0;34m.\u001b[0m\u001b[0mflatten\u001b[0m\u001b[0;34m(\u001b[0m\u001b[0;34m)\u001b[0m\u001b[0;34m\u001b[0m\u001b[0;34m\u001b[0m\u001b[0m\n\u001b[1;32m      6\u001b[0m     \u001b[0mvv\u001b[0m \u001b[0;34m=\u001b[0m \u001b[0mvv\u001b[0m\u001b[0;34m.\u001b[0m\u001b[0mflatten\u001b[0m\u001b[0;34m(\u001b[0m\u001b[0;34m)\u001b[0m\u001b[0;34m\u001b[0m\u001b[0;34m\u001b[0m\u001b[0m\n",
      "\u001b[0;32m~/PIV/PIV/Scripts/flash_mask.py\u001b[0m in \u001b[0;36msaveVectorField\u001b[0;34m(image_number, save, minus_average, fill)\u001b[0m\n\u001b[1;32m     88\u001b[0m \u001b[0;34m\u001b[0m\u001b[0m\n\u001b[1;32m     89\u001b[0m         \u001b[0mframe_b\u001b[0m \u001b[0;34m=\u001b[0m \u001b[0mframe_b\u001b[0m\u001b[0;34m.\u001b[0m\u001b[0mastype\u001b[0m\u001b[0;34m(\u001b[0m\u001b[0;34m'uint8'\u001b[0m\u001b[0;34m)\u001b[0m\u001b[0;34m\u001b[0m\u001b[0;34m\u001b[0m\u001b[0m\n\u001b[0;32m---> 90\u001b[0;31m         \u001b[0mframe_b\u001b[0m \u001b[0;34m=\u001b[0m \u001b[0mrank\u001b[0m\u001b[0;34m.\u001b[0m\u001b[0mequalize\u001b[0m\u001b[0;34m(\u001b[0m\u001b[0mframe_b\u001b[0m\u001b[0;34m,\u001b[0m \u001b[0mselem\u001b[0m \u001b[0;34m=\u001b[0m \u001b[0mselem\u001b[0m\u001b[0;34m)\u001b[0m\u001b[0;34m\u001b[0m\u001b[0;34m\u001b[0m\u001b[0m\n\u001b[0m\u001b[1;32m     91\u001b[0m \u001b[0;34m\u001b[0m\u001b[0m\n\u001b[1;32m     92\u001b[0m         \u001b[0;32mif\u001b[0m \u001b[0mminus_average\u001b[0m\u001b[0;34m:\u001b[0m\u001b[0;34m\u001b[0m\u001b[0;34m\u001b[0m\u001b[0m\n",
      "\u001b[0;32m~/.local/lib/python3.8/site-packages/skimage/filters/rank/generic.py\u001b[0m in \u001b[0;36mequalize\u001b[0;34m(image, selem, out, mask, shift_x, shift_y, shift_z)\u001b[0m\n\u001b[1;32m    484\u001b[0m     \u001b[0mnp_image\u001b[0m \u001b[0;34m=\u001b[0m \u001b[0mnp\u001b[0m\u001b[0;34m.\u001b[0m\u001b[0masanyarray\u001b[0m\u001b[0;34m(\u001b[0m\u001b[0mimage\u001b[0m\u001b[0;34m)\u001b[0m\u001b[0;34m\u001b[0m\u001b[0;34m\u001b[0m\u001b[0m\n\u001b[1;32m    485\u001b[0m     \u001b[0;32mif\u001b[0m \u001b[0mnp_image\u001b[0m\u001b[0;34m.\u001b[0m\u001b[0mndim\u001b[0m \u001b[0;34m==\u001b[0m \u001b[0;36m2\u001b[0m\u001b[0;34m:\u001b[0m\u001b[0;34m\u001b[0m\u001b[0;34m\u001b[0m\u001b[0m\n\u001b[0;32m--> 486\u001b[0;31m         return _apply_scalar_per_pixel(generic_cy._equalize, image, selem,\n\u001b[0m\u001b[1;32m    487\u001b[0m                                        \u001b[0mout\u001b[0m\u001b[0;34m=\u001b[0m\u001b[0mout\u001b[0m\u001b[0;34m,\u001b[0m \u001b[0mmask\u001b[0m\u001b[0;34m=\u001b[0m\u001b[0mmask\u001b[0m\u001b[0;34m,\u001b[0m\u001b[0;34m\u001b[0m\u001b[0;34m\u001b[0m\u001b[0m\n\u001b[1;32m    488\u001b[0m                                        shift_x=shift_x, shift_y=shift_y)\n",
      "\u001b[0;32m~/.local/lib/python3.8/site-packages/skimage/filters/rank/generic.py\u001b[0m in \u001b[0;36m_apply_scalar_per_pixel\u001b[0;34m(func, image, selem, out, mask, shift_x, shift_y, out_dtype)\u001b[0m\n\u001b[1;32m    267\u001b[0m \u001b[0;34m\u001b[0m\u001b[0m\n\u001b[1;32m    268\u001b[0m     \u001b[0;31m# apply cython function\u001b[0m\u001b[0;34m\u001b[0m\u001b[0;34m\u001b[0m\u001b[0;34m\u001b[0m\u001b[0m\n\u001b[0;32m--> 269\u001b[0;31m     func(image, selem, shift_x=shift_x, shift_y=shift_y, mask=mask,\n\u001b[0m\u001b[1;32m    270\u001b[0m          out=out, n_bins=n_bins)\n\u001b[1;32m    271\u001b[0m \u001b[0;34m\u001b[0m\u001b[0m\n",
      "\u001b[0;31mKeyboardInterrupt\u001b[0m: "
     ]
    }
   ],
   "source": [
    "# Save vector field for all the images\n",
    "\n",
    "for i in numbers:\n",
    "    _, _, uv, vv, _, _ = saveVectorField(i, save=save, minus_average=minus_average)\n",
    "    uv = uv.flatten()\n",
    "    vv = vv.flatten()\n",
    "    u = np.c_[u,uv]\n",
    "    v = np.c_[v,vv]"
   ]
  },
  {
   "cell_type": "code",
   "execution_count": null,
   "metadata": {},
   "outputs": [],
   "source": [
    "# Calculate the mean velocity\n",
    "umean, vmean = np.mean(u,axis=1), np.mean(v,axis=1)\n",
    "umean, vmean = umean.reshape(mask.shape), vmean.reshape(mask.shape)\n",
    "\n",
    "# Initialize mask and snr fields\n",
    "mask = np.zeros(mask.shape, dtype=bool)\n",
    "snr = np.zeros(mask.shape)\n",
    "\n",
    "#save in the simple ASCII table format\n",
    "tools.save(x, y, umean, vmean, snr, mask, folder + '/Vector_field/exp1_' + 'meanField.txt' )\n",
    "\n",
    "fig, ax = plt.subplots(figsize=(8,8))\n",
    "tools.display_vector_field( folder + '/Vector_field/exp1_' + 'meanField.txt' , \n",
    "                           ax=ax, scaling_factor=scaling_factor, \n",
    "                           scale= 5000, # scale defines here the arrow length\n",
    "                           width= 0.002, # width is the thickness of the arrow\n",
    "                           on_img=False, # overlay on the image\n",
    "                           image_name= 'None');\n"
   ]
  },
  {
   "cell_type": "code",
   "execution_count": null,
   "metadata": {},
   "outputs": [],
   "source": [
    "# Calculate rms velocity field\n",
    "#urms, vrms = np.std(u,axis=1), np.std(v,axis=1)\n",
    "urms, vrms = urms.reshape(mask.shape), vrms.reshape(mask.shape)\n",
    "\n",
    "#save in the simple ASCII table format\n",
    "tools.save(x, y, urms, vrms, snr, mask, folder + '/Vector_field/exp1_' + 'rmsField.txt' )\n",
    "\n",
    "# Plot\n",
    "X, Y = np.meshgrid(x[0], y.transpose()[0]) \n",
    "\n",
    "ax1 = plt.subplot(1,2,1)\n",
    "ax1.pcolormesh(X,Y,urms)\n",
    "ax1.axis('equal')\n",
    "ax2 = plt.subplot(1,2,2)\n",
    "ax2.axis('equal')\n",
    "ax2.pcolormesh(X,Y,vrms)\n"
   ]
  },
  {
   "cell_type": "code",
   "execution_count": null,
   "metadata": {},
   "outputs": [],
   "source": []
  }
 ],
 "metadata": {
  "kernelspec": {
   "display_name": "Python 3",
   "language": "python",
   "name": "python3"
  },
  "language_info": {
   "codemirror_mode": {
    "name": "ipython",
    "version": 3
   },
   "file_extension": ".py",
   "mimetype": "text/x-python",
   "name": "python",
   "nbconvert_exporter": "python",
   "pygments_lexer": "ipython3",
   "version": "3.8.5"
  }
 },
 "nbformat": 4,
 "nbformat_minor": 4
}
