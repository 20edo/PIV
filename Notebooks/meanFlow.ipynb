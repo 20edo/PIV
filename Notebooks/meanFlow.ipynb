{
 "cells": [
  {
   "cell_type": "code",
   "execution_count": 1,
   "metadata": {},
   "outputs": [],
   "source": [
    "from openpiv import tools, pyprocess, validation, filters, scaling \n",
    "\n",
    "import numpy as np\n",
    "import matplotlib.pyplot as plt\n",
    "%matplotlib inline\n",
    "#import cv2 # Added for image equalozation\n",
    "from math import *\n",
    "import imageio\n",
    "import os\n",
    "import pandas as pd\n",
    "import copy\n",
    "\n",
    "folder = '/home/matteo/PIV/PIV'\n",
    "save = 1 # Save images at the end of postProcessing in Images/ImagesCorrected\n",
    "minus_average = 0 # Consider images cleared of average"
   ]
  },
  {
   "cell_type": "code",
   "execution_count": 2,
   "metadata": {},
   "outputs": [],
   "source": [
    "# Camera\n",
    "resolution = (992,1004) #pixel\n",
    "physical_window = (45,45) # m\n",
    "pixel_depth = 8 # bit\n",
    "dynamic_range = 2**pixel_depth # levels\n",
    "scaling_factor = 1/(np.mean(physical_window)/np.mean(resolution)) # m/pixel"
   ]
  },
  {
   "cell_type": "code",
   "execution_count": 3,
   "metadata": {},
   "outputs": [],
   "source": [
    "# Load saveVectorField functiopon\n",
    "%run -i '/home/matteo/PIV/PIV/Scripts/saveVectorField'\n",
    "%run -i '/home/matteo/PIV/PIV/Scripts/flash_mask'"
   ]
  },
  {
   "cell_type": "code",
   "execution_count": 4,
   "metadata": {},
   "outputs": [],
   "source": [
    "# Generate strings for the images\n",
    "numbers = [\"{0:03}\".format(i) for i in range(2,101)]"
   ]
  },
  {
   "cell_type": "code",
   "execution_count": 5,
   "metadata": {},
   "outputs": [
    {
     "name": "stdout",
     "output_type": "stream",
     "text": [
      "Processing image number:001\n"
     ]
    },
    {
     "name": "stderr",
     "output_type": "stream",
     "text": [
      "/home/matteo/PIV/PIV/Scripts/saveVectorField.py:75: UserWarning: 0 flashed regions in frame a have been replaced with a random noise\n",
      "  warnings.warn(str(number_a)+ ' flashed regions in frame a have been replaced with a random noise')\n"
     ]
    }
   ],
   "source": [
    "# Initialize u and v\n",
    "x,y,u,v,snr,mask = saveVectorField('001', save=save, minus_average=minus_average)\n",
    "u, v = u.flatten(), v.flatten()"
   ]
  },
  {
   "cell_type": "code",
   "execution_count": 6,
   "metadata": {},
   "outputs": [
    {
     "name": "stdout",
     "output_type": "stream",
     "text": [
      "Processing image number:002\n",
      "Processing image number:003\n",
      "Processing image number:004\n",
      "Processing image number:005\n"
     ]
    },
    {
     "name": "stderr",
     "output_type": "stream",
     "text": [
      "/home/matteo/PIV/PIV/Scripts/saveVectorField.py:72: UserWarning: 1 flashed regions in frame a have been replaced with a random noise\n",
      "  warnings.warn(str(number_a)+ ' flashed regions in frame a have been replaced with a random noise')\n"
     ]
    },
    {
     "name": "stdout",
     "output_type": "stream",
     "text": [
      "Processing image number:006\n"
     ]
    },
    {
     "name": "stderr",
     "output_type": "stream",
     "text": [
      "/home/matteo/PIV/PIV/Scripts/saveVectorField.py:75: UserWarning: 0 flashed regions in frame a have been replaced with a random noise\n",
      "  warnings.warn(str(number_a)+ ' flashed regions in frame a have been replaced with a random noise')\n"
     ]
    },
    {
     "name": "stdout",
     "output_type": "stream",
     "text": [
      "Processing image number:007\n",
      "Processing image number:008\n",
      "Processing image number:009\n",
      "Processing image number:010\n",
      "Processing image number:011\n",
      "Processing image number:012\n"
     ]
    },
    {
     "name": "stderr",
     "output_type": "stream",
     "text": [
      "/home/matteo/PIV/PIV/Scripts/saveVectorField.py:75: UserWarning: 1 flashed regions in frame a have been replaced with a random noise\n",
      "  warnings.warn(str(number_a)+ ' flashed regions in frame a have been replaced with a random noise')\n"
     ]
    },
    {
     "name": "stdout",
     "output_type": "stream",
     "text": [
      "Processing image number:013\n"
     ]
    },
    {
     "name": "stderr",
     "output_type": "stream",
     "text": [
      "/home/matteo/PIV/PIV/Scripts/saveVectorField.py:72: UserWarning: 2 flashed regions in frame a have been replaced with a random noise\n",
      "  warnings.warn(str(number_a)+ ' flashed regions in frame a have been replaced with a random noise')\n",
      "/home/matteo/PIV/PIV/Scripts/saveVectorField.py:75: UserWarning: 2 flashed regions in frame a have been replaced with a random noise\n",
      "  warnings.warn(str(number_a)+ ' flashed regions in frame a have been replaced with a random noise')\n"
     ]
    },
    {
     "name": "stdout",
     "output_type": "stream",
     "text": [
      "Processing image number:014\n",
      "Processing image number:015\n",
      "Processing image number:016\n",
      "Processing image number:017\n",
      "Processing image number:018\n",
      "Processing image number:019\n",
      "Processing image number:020\n",
      "Processing image number:021\n",
      "Processing image number:022\n",
      "Processing image number:023\n",
      "Processing image number:024\n",
      "Processing image number:025\n",
      "Processing image number:026\n",
      "Processing image number:027\n",
      "Processing image number:028\n",
      "Processing image number:029\n",
      "Processing image number:030\n",
      "Processing image number:031\n",
      "Processing image number:032\n",
      "Processing image number:033\n",
      "Processing image number:034\n",
      "Processing image number:035\n",
      "Processing image number:036\n",
      "Processing image number:037\n",
      "Processing image number:038\n",
      "Processing image number:039\n",
      "Processing image number:040\n",
      "Processing image number:041\n",
      "Processing image number:042\n",
      "Processing image number:043\n",
      "Processing image number:044\n",
      "Processing image number:045\n",
      "Processing image number:046\n",
      "Processing image number:047\n",
      "Processing image number:048\n",
      "Processing image number:049\n",
      "Processing image number:050\n",
      "Processing image number:051\n",
      "Processing image number:052\n",
      "Processing image number:053\n",
      "Processing image number:054\n",
      "Processing image number:055\n",
      "Processing image number:056\n",
      "Processing image number:057\n",
      "Processing image number:058\n",
      "Processing image number:059\n",
      "Processing image number:060\n",
      "Processing image number:061\n",
      "Processing image number:062\n",
      "Processing image number:063\n",
      "Processing image number:064\n"
     ]
    },
    {
     "name": "stderr",
     "output_type": "stream",
     "text": [
      "/home/matteo/PIV/PIV/Scripts/saveVectorField.py:72: UserWarning: 3 flashed regions in frame a have been replaced with a random noise\n",
      "  warnings.warn(str(number_a)+ ' flashed regions in frame a have been replaced with a random noise')\n",
      "/home/matteo/PIV/PIV/Scripts/saveVectorField.py:75: UserWarning: 3 flashed regions in frame a have been replaced with a random noise\n",
      "  warnings.warn(str(number_a)+ ' flashed regions in frame a have been replaced with a random noise')\n"
     ]
    },
    {
     "name": "stdout",
     "output_type": "stream",
     "text": [
      "Processing image number:065\n",
      "Processing image number:066\n",
      "Processing image number:067\n",
      "Processing image number:068\n",
      "Processing image number:069\n",
      "Processing image number:070\n",
      "Processing image number:071\n",
      "Processing image number:072\n",
      "Processing image number:073\n",
      "Processing image number:074\n",
      "Processing image number:075\n",
      "Processing image number:076\n",
      "Processing image number:077\n",
      "Processing image number:078\n",
      "Processing image number:079\n",
      "Processing image number:080\n",
      "Processing image number:081\n",
      "Processing image number:082\n",
      "Processing image number:083\n",
      "Processing image number:084\n",
      "Processing image number:085\n",
      "Processing image number:086\n",
      "Processing image number:087\n",
      "Processing image number:088\n",
      "Processing image number:089\n",
      "Processing image number:090\n",
      "Processing image number:091\n",
      "Processing image number:092\n",
      "Processing image number:093\n",
      "Processing image number:094\n",
      "Processing image number:095\n",
      "Processing image number:096\n",
      "Processing image number:097\n",
      "Processing image number:098\n",
      "Processing image number:099\n",
      "Processing image number:100\n"
     ]
    }
   ],
   "source": [
    "# Save vector field for all the images\n",
    "\n",
    "for i in numbers:\n",
    "    _, _, uv, vv, _, _ = saveVectorField(i, save=save, minus_average=minus_average)\n",
    "    uv = uv.flatten()\n",
    "    vv = vv.flatten()\n",
    "    u = np.c_[u,uv]\n",
    "    v = np.c_[v,vv]"
   ]
  },
  {
   "cell_type": "code",
   "execution_count": 7,
   "metadata": {},
   "outputs": [
    {
     "data": {
      "image/png": "[encoded data removed]",
      "text/plain": [
       "<Figure size 576x576 with 1 Axes>"
      ]
     },
     "metadata": {
      "needs_background": "light"
     },
     "output_type": "display_data"
    }
   ],
   "source": [
    "# Calculate the mean velocity\n",
    "umean, vmean = np.mean(u,axis=1), np.mean(v,axis=1)\n",
    "umean, vmean = umean.reshape(mask.shape), vmean.reshape(mask.shape)\n",
    "\n",
    "# Initialize mask and snr fields\n",
    "mask = np.zeros(mask.shape, dtype=bool)\n",
    "snr = np.zeros(mask.shape)\n",
    "\n",
    "#save in the simple ASCII table format\n",
    "tools.save(x, y, umean, vmean, snr, mask, folder + '/Vector_field/exp1_' + 'meanField.txt' )\n",
    "\n",
    "fig, ax = plt.subplots(figsize=(8,8))\n",
    "tools.display_vector_field( folder + '/Vector_field/exp1_' + 'meanField.txt' , \n",
    "                           ax=ax, scaling_factor=scaling_factor, \n",
    "                           scale= 5000, # scale defines here the arrow length\n",
    "                           width= 0.002, # width is the thickness of the arrow\n",
    "                           on_img=False, # overlay on the image\n",
    "                           image_name= 'None');\n"
   ]
  },
  {
   "cell_type": "code",
   "execution_count": 8,
   "metadata": {},
   "outputs": [
    {
     "ename": "NameError",
     "evalue": "name 'urms' is not defined",
     "output_type": "error",
     "traceback": [
      "\u001b[0;31m---------------------------------------------------------------------------\u001b[0m",
      "\u001b[0;31mNameError\u001b[0m                                 Traceback (most recent call last)",
      "\u001b[0;32m~/PIV/PIV/Scripts/flash_mask.py\u001b[0m in \u001b[0;36m<module>\u001b[0;34m\u001b[0m\n\u001b[1;32m      1\u001b[0m \u001b[0;31m# Calculate rms velocity field\u001b[0m\u001b[0;34m\u001b[0m\u001b[0;34m\u001b[0m\u001b[0;34m\u001b[0m\u001b[0m\n\u001b[1;32m      2\u001b[0m \u001b[0;31m#urms, vrms = np.std(u,axis=1), np.std(v,axis=1)\u001b[0m\u001b[0;34m\u001b[0m\u001b[0;34m\u001b[0m\u001b[0;34m\u001b[0m\u001b[0m\n\u001b[0;32m----> 3\u001b[0;31m \u001b[0murms\u001b[0m\u001b[0;34m,\u001b[0m \u001b[0mvrms\u001b[0m \u001b[0;34m=\u001b[0m \u001b[0murms\u001b[0m\u001b[0;34m.\u001b[0m\u001b[0mreshape\u001b[0m\u001b[0;34m(\u001b[0m\u001b[0mmask\u001b[0m\u001b[0;34m.\u001b[0m\u001b[0mshape\u001b[0m\u001b[0;34m)\u001b[0m\u001b[0;34m,\u001b[0m \u001b[0mvrms\u001b[0m\u001b[0;34m.\u001b[0m\u001b[0mreshape\u001b[0m\u001b[0;34m(\u001b[0m\u001b[0mmask\u001b[0m\u001b[0;34m.\u001b[0m\u001b[0mshape\u001b[0m\u001b[0;34m)\u001b[0m\u001b[0;34m\u001b[0m\u001b[0;34m\u001b[0m\u001b[0m\n\u001b[0m\u001b[1;32m      4\u001b[0m \u001b[0;34m\u001b[0m\u001b[0m\n\u001b[1;32m      5\u001b[0m \u001b[0;31m#save in the simple ASCII table format\u001b[0m\u001b[0;34m\u001b[0m\u001b[0;34m\u001b[0m\u001b[0;34m\u001b[0m\u001b[0m\n",
      "\u001b[0;31mNameError\u001b[0m: name 'urms' is not defined"
     ]
    }
   ],
   "source": [
    "# Calculate rms velocity field\n",
    "#urms, vrms = np.std(u,axis=1), np.std(v,axis=1)\n",
    "urms, vrms = urms.reshape(mask.shape), vrms.reshape(mask.shape)\n",
    "\n",
    "#save in the simple ASCII table format\n",
    "tools.save(x, y, urms, vrms, snr, mask, folder + '/Vector_field/exp1_' + 'rmsField.txt' )\n",
    "\n",
    "# Plot\n",
    "X, Y = np.meshgrid(x[0], y.transpose()[0]) \n",
    "\n",
    "ax1 = plt.subplot(1,2,1)\n",
    "ax1.pcolormesh(X,Y,urms)\n",
    "ax1.axis('equal')\n",
    "ax2 = plt.subplot(1,2,2)\n",
    "ax2.axis('equal')\n",
    "ax2.pcolormesh(X,Y,vrms)\n"
   ]
  },
  {
   "cell_type": "code",
   "execution_count": null,
   "metadata": {},
   "outputs": [],
   "source": []
  }
 ],
 "metadata": {
  "kernelspec": {
   "display_name": "Python 3",
   "language": "python",
   "name": "python3"
  },
  "language_info": {
   "codemirror_mode": {
    "name": "ipython",
    "version": 3
   },
   "file_extension": ".py",
   "mimetype": "text/x-python",
   "name": "python",
   "nbconvert_exporter": "python",
   "pygments_lexer": "ipython3",
   "version": "3.8.5"
  }
 },
 "nbformat": 4,
 "nbformat_minor": 4
}
